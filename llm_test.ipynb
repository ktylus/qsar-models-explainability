{
 "cells": [
  {
   "cell_type": "code",
   "execution_count": 12,
   "metadata": {},
   "outputs": [
    {
     "name": "stdout",
     "output_type": "stream",
     "text": [
      "ChatCompletionMessage(content=\"N,N,2-trimethylpropan-1-amine, often referred to as a type of amine, is a chemical compound with the general formula C₇H₁₉N. It contains a central nitrogen atom bonded to three methyl groups and an ethyl group, giving it its classification as a tertiary amine. \\n\\nThis compound may be of interest in various chemical contexts, such as in organic synthesis, medicinal chemistry, or industrial applications. Amines can serve as intermediates in the synthesis of pharmaceuticals, agrochemicals, and other industrial chemicals. They also possess basic properties due to the lone pair of electrons on the nitrogen atom and can participate in various chemical reactions, including electrophilic substitutions and alkylation.\\n\\nOne of the considerations when discussing such chemicals includes their safety and toxicity, especially in industrial contexts, as amines can have varying degrees of hazard associated with them. Proper handling and disposal procedures are essential when working with amines due to potential health effects.\\n\\nIf you're looking for specific details such as properties, applications, or safety information about N,N,2-trimethylpropan-1-amine, please clarify your interest, and I can provide more focused information.\", refusal=None, role='assistant', audio=None, function_call=None, tool_calls=None)\n"
     ]
    }
   ],
   "source": [
    "from openai import OpenAI\n",
    "\n",
    "with open(\"openai/api_key.txt\") as f:\n",
    "    api_key = f.read().strip()\n",
    "client = OpenAI(api_key=api_key)\n",
    "\n",
    "mol_name = \"N,N,2-trimethylpropan-1-amine\"\n",
    "\n",
    "completion = client.chat.completions.create(\n",
    "    model=\"gpt-4o-mini\",\n",
    "    messages=[\n",
    "        {\"role\": \"system\", \"content\": \"You are a helpful assistant.\"},\n",
    "        {\n",
    "            \"role\": \"user\",\n",
    "            \"content\": f\"What do you think about {mol_name}?\"\n",
    "        }\n",
    "    ]\n",
    ")\n",
    "\n",
    "print(completion.choices[0].message)"
   ]
  },
  {
   "cell_type": "code",
   "execution_count": null,
   "metadata": {},
   "outputs": [],
   "source": []
  }
 ],
 "metadata": {
  "kernelspec": {
   "display_name": "ml_gnn",
   "language": "python",
   "name": "python3"
  },
  "language_info": {
   "codemirror_mode": {
    "name": "ipython",
    "version": 3
   },
   "file_extension": ".py",
   "mimetype": "text/x-python",
   "name": "python",
   "nbconvert_exporter": "python",
   "pygments_lexer": "ipython3",
   "version": "3.10.13"
  }
 },
 "nbformat": 4,
 "nbformat_minor": 2
}

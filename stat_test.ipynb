{
 "cells": [
  {
   "cell_type": "code",
   "execution_count": 2,
   "metadata": {},
   "outputs": [],
   "source": [
    "import json\n",
    "\n",
    "import scipy.stats as stats\n",
    "\n",
    "from src.dataset import load_cyp_data_split, load_herg_data_split, load_pampa_data_split, load_synthetic_data_split\n",
    "from src.utils import get_data_partition_on_substructure_presence"
   ]
  },
  {
   "cell_type": "code",
   "execution_count": 7,
   "metadata": {},
   "outputs": [
    {
     "name": "stderr",
     "output_type": "stream",
     "text": [
      "Found local copy...\n",
      "Loading...\n",
      "Done!\n",
      "Found local copy...\n",
      "Loading...\n",
      "Done!\n",
      "Found local copy...\n",
      "Loading...\n",
      "Done!\n"
     ]
    }
   ],
   "source": [
    "train_cyp, valid_cyp, test_cyp = load_cyp_data_split()\n",
    "train_herg, valid_herg, test_herg = load_herg_data_split()\n",
    "train_pampa, valid_pampa, test_pampa = load_pampa_data_split()\n",
    "train_synthetic, valid_synthetic, test_synthetic = load_synthetic_data_split()\n",
    "\n",
    "test_datasets = {\n",
    "    'cyp': test_cyp,\n",
    "    'herg': test_herg,\n",
    "    'pampa': test_pampa,\n",
    "    'synthetic': test_synthetic\n",
    "}"
   ]
  },
  {
   "cell_type": "code",
   "execution_count": 11,
   "metadata": {},
   "outputs": [],
   "source": [
    "grad_cam_smiles = json.load(open('results/smiles_grad_cam.json'))\n",
    "saliency_map_smiles = json.load(open('results/smiles_saliency_map.json'))"
   ]
  },
  {
   "cell_type": "code",
   "execution_count": 13,
   "metadata": {},
   "outputs": [],
   "source": [
    "grad_cam_results = {}\n",
    "for dataset_name in ['cyp', 'herg', 'pampa', 'synthetic']:\n",
    "    grad_cam_results[dataset_name] = []\n",
    "    for i in range(len(grad_cam_smiles[dataset_name])):\n",
    "        results = []\n",
    "        for smiles in grad_cam_smiles[dataset_name][i]:\n",
    "            has_substr, no_substr = get_data_partition_on_substructure_presence(test_datasets[dataset_name], smiles)\n",
    "            has_substr_y = [int(float(mol.GetProp(\"y\"))) for mol in has_substr]\n",
    "            no_substr_y = [int(float(mol.GetProp(\"y\"))) for mol in no_substr]\n",
    "            results.append(stats.ttest_ind(has_substr_y, no_substr_y))\n",
    "        grad_cam_results[dataset_name].append(results)\n",
    "\n",
    "saliency_map_results = {}\n",
    "for dataset_name in ['cyp', 'herg', 'pampa', 'synthetic']:\n",
    "    saliency_map_results[dataset_name] = []\n",
    "    for i in range(len(saliency_map_smiles[dataset_name])):\n",
    "        results = []\n",
    "        for smiles in saliency_map_smiles[dataset_name][i]:\n",
    "            has_substr, no_substr = get_data_partition_on_substructure_presence(test_datasets[dataset_name], smiles)\n",
    "            has_substr_y = [int(float(mol.GetProp(\"y\"))) for mol in has_substr]\n",
    "            no_substr_y = [int(float(mol.GetProp(\"y\"))) for mol in no_substr]\n",
    "            results.append(stats.ttest_ind(has_substr_y, no_substr_y))\n",
    "        saliency_map_results[dataset_name].append(results)"
   ]
  },
  {
   "cell_type": "code",
   "execution_count": null,
   "metadata": {},
   "outputs": [],
   "source": [
    "def did_test_pass(result, threshold=0.05):\n",
    "    return result.pvalue < threshold\n",
    "\n",
    "grad_cam_results_pass = {}\n",
    "for dataset_name in ['cyp', 'herg', 'pampa', 'synthetic']:\n",
    "    grad_cam_results_pass[dataset_name] = []\n",
    "    for i in range(len(grad_cam_results[dataset_name])):\n",
    "        results = []\n",
    "        for result in grad_cam_results[dataset_name][i]:\n",
    "            results.append(did_test_pass(result))\n",
    "        grad_cam_results_pass[dataset_name].append(results)\n",
    "\n",
    "saliency_map_results_pass = {}\n",
    "for dataset_name in ['cyp', 'herg', 'pampa', 'synthetic']:\n",
    "    saliency_map_results_pass[dataset_name] = []\n",
    "    for i in range(len(saliency_map_results[dataset_name])):\n",
    "        results = []\n",
    "        for result in saliency_map_results[dataset_name][i]:\n",
    "            results.append(did_test_pass(result))\n",
    "        saliency_map_results_pass[dataset_name].append(results)"
   ]
  },
  {
   "cell_type": "code",
   "execution_count": null,
   "metadata": {},
   "outputs": [],
   "source": []
  }
 ],
 "metadata": {
  "kernelspec": {
   "display_name": "masters",
   "language": "python",
   "name": "python3"
  },
  "language_info": {
   "codemirror_mode": {
    "name": "ipython",
    "version": 3
   },
   "file_extension": ".py",
   "mimetype": "text/x-python",
   "name": "python",
   "nbconvert_exporter": "python",
   "pygments_lexer": "ipython3",
   "version": "3.10.16"
  }
 },
 "nbformat": 4,
 "nbformat_minor": 2
}

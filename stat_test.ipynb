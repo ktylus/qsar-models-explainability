{
 "cells": [
  {
   "cell_type": "code",
   "execution_count": 20,
   "metadata": {},
   "outputs": [],
   "source": [
    "import copy\n",
    "\n",
    "import torch\n",
    "import torch.nn.functional as F\n",
    "from torch_geometric.loader import DataLoader as GraphDataLoader\n",
    "import numpy as np\n",
    "from rdkit import Chem\n",
    "import scipy.stats as stats\n",
    "\n",
    "from src.splitters import ScaffoldSplitter\n",
    "from src.dataset import create_synthetic_dataset, load_cyp_data_split\n",
    "from src.utils import get_data_partition_on_substructure_presence"
   ]
  },
  {
   "cell_type": "code",
   "execution_count": 12,
   "metadata": {},
   "outputs": [
    {
     "name": "stderr",
     "output_type": "stream",
     "text": [
      "Found local copy...\n",
      "Loading...\n",
      "Done!\n"
     ]
    }
   ],
   "source": [
    "aromatic_ring_smiles = \"c1ccccc1\"\n",
    "train_cyp, valid_cyp, test_cyp = load_cyp_data_split()"
   ]
  },
  {
   "cell_type": "code",
   "execution_count": 13,
   "metadata": {},
   "outputs": [],
   "source": [
    "has_substr, no_substr = get_data_partition_on_substructure_presence(test_cyp, aromatic_ring_smiles)"
   ]
  },
  {
   "cell_type": "code",
   "execution_count": 22,
   "metadata": {},
   "outputs": [],
   "source": [
    "has_substr_y = [int(mol.GetProp(\"y\")) for mol in has_substr]\n",
    "no_substr_y = [int(mol.GetProp(\"y\")) for mol in no_substr]"
   ]
  },
  {
   "cell_type": "code",
   "execution_count": 23,
   "metadata": {},
   "outputs": [
    {
     "data": {
      "text/plain": [
       "TtestResult(statistic=13.093696271781056, pvalue=6.400891409397901e-38, df=2464.0)"
      ]
     },
     "execution_count": 23,
     "metadata": {},
     "output_type": "execute_result"
    }
   ],
   "source": [
    "stats.ttest_ind(has_substr_y, no_substr_y)"
   ]
  },
  {
   "cell_type": "code",
   "execution_count": null,
   "metadata": {},
   "outputs": [],
   "source": []
  }
 ],
 "metadata": {
  "kernelspec": {
   "display_name": "masters",
   "language": "python",
   "name": "python3"
  },
  "language_info": {
   "codemirror_mode": {
    "name": "ipython",
    "version": 3
   },
   "file_extension": ".py",
   "mimetype": "text/x-python",
   "name": "python",
   "nbconvert_exporter": "python",
   "pygments_lexer": "ipython3",
   "version": "3.10.16"
  }
 },
 "nbformat": 4,
 "nbformat_minor": 2
}

{
 "cells": [
  {
   "cell_type": "code",
   "execution_count": null,
   "metadata": {},
   "outputs": [],
   "source": [
    "import torch\n",
    "import pandas as pd\n",
    "from rdkit import Chem\n",
    "from sklearn.preprocessing import MinMaxScaler\n",
    "\n",
    "from src.featurizers import GraphFeaturizer\n",
    "from src.models.gnn import GraphConvolutionalNetwork\n",
    "from src.dataset import (\n",
    "    load_herg_data_split,\n",
    "    load_cyp_data_split,\n",
    "    load_pampa_data_split,\n",
    "    load_synthetic_data_split,\n",
    ")\n",
    "from src.explanations import (\n",
    "    grad_cam,\n",
    "    saliency_map,\n",
    "    complete_rings_in_components,\n",
    "    plot_grad_cam_explanation,\n",
    "    get_n_atom_connected_components,\n",
    ")\n",
    "from src.utils import (\n",
    "    get_sub_molecule,\n",
    "    get_iupac_name_of_smiles\n",
    ")\n",
    "from tuning_results import (\n",
    "    synthetic_gnn_params,\n",
    "    herg_gnn_params,\n",
    "    cyp_gnn_params,\n",
    "    pampa_gnn_params\n",
    ")\n",
    "\n",
    "device = torch.device(\"cuda\" if torch.cuda.is_available() else \"cpu\")"
   ]
  },
  {
   "cell_type": "code",
   "execution_count": null,
   "metadata": {},
   "outputs": [],
   "source": [
    "train, _, test = load_cyp_data_split()\n",
    "\n",
    "graph_featurizer = GraphFeaturizer(\"y\", log_target_transform=False)\n",
    "graph_train = graph_featurizer(train)\n",
    "graph_test = graph_featurizer(test)\n",
    "\n",
    "best_params = cyp_gnn_params\n",
    "dataset_name = \"cyp\"\n",
    "model = GraphConvolutionalNetwork(\n",
    "    input_dim=graph_train[0].x.shape[1],\n",
    "    hidden_size=best_params[\"hidden_size\"],\n",
    "    n_layers=best_params[\"num_layers\"],\n",
    "    dropout=best_params[\"dropout\"]\n",
    ").to(device)\n",
    "model.load_state_dict(torch.load(f\"models/gnn_tuned_{dataset_name}.pth\"))"
   ]
  },
  {
   "cell_type": "markdown",
   "metadata": {},
   "source": [
    "### Find all connected components of size N in a molecule among atoms highlighted by an explanation method\n",
    "\n",
    "This will serve as an input to the LLM when asking about the effect of having a certain component in the molecule on an ADMET property."
   ]
  },
  {
   "cell_type": "code",
   "execution_count": null,
   "metadata": {},
   "outputs": [],
   "source": [
    "mol_index = 7\n",
    "grad_cam_score = grad_cam(model, graph_train[mol_index])\n",
    "plot_grad_cam_explanation(model, train[mol_index], graph_train[mol_index])"
   ]
  },
  {
   "cell_type": "code",
   "execution_count": null,
   "metadata": {},
   "outputs": [],
   "source": [
    "n_atom_connected_components = get_n_atom_connected_components(train[mol_index], grad_cam_score, 0.1, 3)\n",
    "n_atom_connected_components"
   ]
  },
  {
   "cell_type": "code",
   "execution_count": null,
   "metadata": {},
   "outputs": [],
   "source": [
    "complete_components = complete_rings_in_components(train[mol_index], n_atom_connected_components)\n",
    "complete_components"
   ]
  },
  {
   "cell_type": "code",
   "execution_count": null,
   "metadata": {},
   "outputs": [],
   "source": [
    "get_sub_molecule(train[mol_index], complete_components[0])"
   ]
  },
  {
   "cell_type": "markdown",
   "metadata": {},
   "source": [
    "### Finding most important components and converting to IUPAC"
   ]
  },
  {
   "cell_type": "code",
   "execution_count": null,
   "metadata": {},
   "outputs": [],
   "source": [
    "iupacs_grad_cam = {}\n",
    "iupacs_saliency_map = {}\n",
    "\n",
    "smiles_grad_cam = {}\n",
    "smiles_saliency_map = {}"
   ]
  },
  {
   "cell_type": "code",
   "execution_count": null,
   "metadata": {},
   "outputs": [],
   "source": [
    "current_results = []\n",
    "current_smiles = []\n",
    "for component_size in range(3, 9):\n",
    "    components = []\n",
    "    for i in range(len(graph_train)):\n",
    "        exp_scores = grad_cam(model, graph_train[i])\n",
    "        scaled_exp_scores = MinMaxScaler().fit_transform(exp_scores.reshape(-1, 1)).reshape(-1)\n",
    "        connected_components = complete_rings_in_components(train[i], get_n_atom_connected_components(train[i], scaled_exp_scores, 0.1, component_size))\n",
    "        connected_components_mols = [get_sub_molecule(train[i], component) for component in connected_components]\n",
    "        components.extend(connected_components_mols)\n",
    "    components_smiles = list(map(Chem.MolToSmiles, components))\n",
    "    components_smiles_series = pd.Series(components_smiles)\n",
    "    smiles_to_input = list(components_smiles_series.value_counts().head(10).index)\n",
    "    iupac_names = []\n",
    "    for smiles in smiles_to_input:\n",
    "        try:\n",
    "            iupac_name = get_iupac_name_of_smiles(smiles)\n",
    "            iupac_names.append(iupac_name)\n",
    "        except:\n",
    "            iupac_names.append(smiles)\n",
    "    current_results.append(iupac_names)\n",
    "    current_smiles.append(smiles_to_input)\n",
    "iupacs_grad_cam[dataset_name] = current_results\n",
    "smiles_grad_cam[dataset_name] = current_smiles"
   ]
  },
  {
   "cell_type": "code",
   "execution_count": null,
   "metadata": {},
   "outputs": [],
   "source": [
    "current_results = []\n",
    "current_smiles = []\n",
    "for component_size in range(3, 9):\n",
    "    components = []\n",
    "    for i in range(len(graph_train)):\n",
    "        exp_scores = saliency_map(model, graph_train[i])\n",
    "        scaled_exp_scores = MinMaxScaler().fit_transform(exp_scores.reshape(-1, 1)).reshape(-1)\n",
    "        connected_components = complete_rings_in_components(train[i], get_n_atom_connected_components(train[i], scaled_exp_scores, 0.1, component_size))\n",
    "        connected_components_mols = [get_sub_molecule(train[i], component) for component in connected_components]\n",
    "        components.extend(connected_components_mols)\n",
    "    components_smiles = list(map(Chem.MolToSmiles, components))\n",
    "    components_smiles_series = pd.Series(components_smiles)\n",
    "    smiles_to_input = list(components_smiles_series.value_counts().head(10).index)\n",
    "    iupac_names = []\n",
    "    for smiles in smiles_to_input:\n",
    "        try:\n",
    "            iupac_name = get_iupac_name_of_smiles(smiles)\n",
    "            iupac_names.append(iupac_name)\n",
    "        except:\n",
    "            iupac_names.append(smiles)\n",
    "    current_results.append(iupac_names)\n",
    "    current_smiles.append(smiles_to_input)\n",
    "iupacs_saliency_map[dataset_name] = current_results\n",
    "smiles_saliency_map[dataset_name] = current_smiles"
   ]
  }
 ],
 "metadata": {
  "kernelspec": {
   "display_name": "masters",
   "language": "python",
   "name": "python3"
  },
  "language_info": {
   "name": "python",
   "version": "3.10.16"
  }
 },
 "nbformat": 4,
 "nbformat_minor": 2
}

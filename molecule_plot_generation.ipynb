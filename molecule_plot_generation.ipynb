{
 "cells": [
  {
   "cell_type": "code",
   "execution_count": 1,
   "metadata": {},
   "outputs": [
    {
     "name": "stderr",
     "output_type": "stream",
     "text": [
      "No normalization for SPS. Feature removed!\n",
      "No normalization for AvgIpc. Feature removed!\n",
      "Skipped loading some Tensorflow models, missing a dependency. No module named 'tensorflow'\n",
      "Skipped loading modules with pytorch-geometric dependency, missing a dependency. No module named 'dgl'\n",
      "Skipped loading modules with transformers dependency. No module named 'transformers'\n",
      "cannot import name 'HuggingFaceModel' from 'deepchem.models.torch_models' (c:\\Users\\kamil\\miniconda3\\envs\\masters\\lib\\site-packages\\deepchem\\models\\torch_models\\__init__.py)\n",
      "Skipped loading modules with pytorch-lightning dependency, missing a dependency. No module named 'lightning'\n",
      "Skipped loading some Jax models, missing a dependency. No module named 'jax'\n",
      "Skipped loading some PyTorch models, missing a dependency. No module named 'tensorflow'\n"
     ]
    }
   ],
   "source": [
    "import json\n",
    "\n",
    "import rdkit.Chem as Chem\n",
    "import matplotlib.pyplot as plt\n",
    "import numpy as np\n",
    "from sklearn.preprocessing import MinMaxScaler\n",
    "\n",
    "from src.dataset import (\n",
    "    load_cyp_data_split,\n",
    "    load_herg_data_split,\n",
    "    load_pampa_data_split,\n",
    "    load_synthetic_data_split\n",
    ")\n",
    "from src.explanations import img_for_mol, grad_cam, saliency_map\n",
    "from src.featurizers import GraphFeaturizer\n",
    "from tuning_results import (\n",
    "    cyp_gnn_params,\n",
    "    herg_gnn_params,\n",
    "    pampa_gnn_params,\n",
    "    synthetic_gnn_params\n",
    ")\n",
    "from src.utils import load_gnn_model"
   ]
  },
  {
   "cell_type": "code",
   "execution_count": 3,
   "metadata": {},
   "outputs": [],
   "source": [
    "import os\n",
    "\n",
    "grad_cam_smiles = json.load(open('results/smiles_grad_cam.json'))\n",
    "saliency_map_smiles = json.load(open('results/smiles_saliency_map.json'))\n",
    "\n",
    "dataset_names = [\"herg\", \"pampa\", \"cyp\", \"synthetic\"]\n",
    "component_sizes = range(3, 9)\n",
    "\n",
    "for dataset_name in dataset_names:\n",
    "    for smiles_list, component_size in zip(grad_cam_smiles[dataset_name], component_sizes):\n",
    "        for i, smiles in enumerate(smiles_list):\n",
    "            mol = Chem.MolFromSmiles(smiles)\n",
    "            img = img_for_mol(mol)\n",
    "            output_dir = f\"results/{dataset_name}_grad_cam_top_components/component_size_{component_size}\"\n",
    "            os.makedirs(output_dir, exist_ok=True)\n",
    "            plt.imsave(f\"results/{dataset_name}_grad_cam_top_components/component_size_{component_size}/{i}_{smiles}.png\", img)\n",
    "\n",
    "for dataset_name in dataset_names:\n",
    "    for smiles_list, component_size in zip(saliency_map_smiles[dataset_name], component_sizes):\n",
    "        for i, smiles in enumerate(smiles_list):\n",
    "            mol = Chem.MolFromSmiles(smiles)\n",
    "            img = img_for_mol(mol)\n",
    "            output_dir = f\"results/{dataset_name}_saliency_map_top_components/component_size_{component_size}\"\n",
    "            os.makedirs(output_dir, exist_ok=True)\n",
    "            plt.imsave(f\"results/{dataset_name}_saliency_map_top_components/component_size_{component_size}/{i}_{smiles}.png\", img)"
   ]
  },
  {
   "cell_type": "code",
   "execution_count": 24,
   "metadata": {},
   "outputs": [
    {
     "name": "stderr",
     "output_type": "stream",
     "text": [
      "Found local copy...\n",
      "Loading...\n",
      "Done!\n",
      "Found local copy...\n",
      "Loading...\n",
      "Done!\n",
      "[12:08:51] WARNING: not removing hydrogen atom without neighbors\n",
      "[12:08:51] WARNING: not removing hydrogen atom without neighbors\n",
      "Found local copy...\n",
      "Loading...\n",
      "Done!\n"
     ]
    }
   ],
   "source": [
    "_, _, test_cyp = load_cyp_data_split()\n",
    "_, _, test_herg = load_herg_data_split()\n",
    "_, _, test_pampa = load_pampa_data_split()\n",
    "_, _, test_synthetic = load_synthetic_data_split()\n",
    "\n",
    "datasets = {\n",
    "    \"cyp\": test_cyp,\n",
    "    \"herg\": test_herg,\n",
    "    \"pampa\": test_pampa,\n",
    "    \"synthetic\": test_synthetic\n",
    "}\n",
    "\n",
    "featurizer = GraphFeaturizer(\"y\")\n",
    "\n",
    "featurized_datasets = {\n",
    "    \"cyp\": featurizer(test_cyp),\n",
    "    \"herg\": featurizer(test_herg),\n",
    "    \"pampa\": featurizer(test_pampa),\n",
    "    \"synthetic\": featurizer(test_synthetic)\n",
    "}\n",
    "\n",
    "best_params = {\n",
    "    \"cyp\": cyp_gnn_params,\n",
    "    \"herg\": herg_gnn_params,\n",
    "    \"pampa\": pampa_gnn_params,\n",
    "    \"synthetic\": synthetic_gnn_params\n",
    "}\n",
    "\n",
    "n_mols_to_save = 20\n",
    "np.random.seed(1)\n",
    "\n",
    "for dataset_name in datasets.keys():\n",
    "    model = load_gnn_model(datasets[dataset_name], dataset_name, best_params[dataset_name])\n",
    "    mols_to_save = np.random.randint(0, len(featurized_datasets[dataset_name]), n_mols_to_save)\n",
    "    for i in mols_to_save:\n",
    "        mol = datasets[dataset_name][i]\n",
    "        featurized_mol = featurized_datasets[dataset_name][i]\n",
    "        invert_gradients = True if dataset_name == \"synthetic\" else False\n",
    "        grad_cam_weights = grad_cam(model, featurized_mol, invert_gradients)\n",
    "        scaled_grad_cam_weights = MinMaxScaler().fit_transform(grad_cam_weights.reshape(-1, 1)).squeeze()\n",
    "        img = img_for_mol(mol, scaled_grad_cam_weights)\n",
    "        output_dir = f\"results/{dataset_name}_grad_cam_explanations\"\n",
    "        os.makedirs(output_dir, exist_ok=True)\n",
    "        plt.imsave(f\"{output_dir}/{i}.png\", img)\n",
    "\n",
    "        saliency_map_weights = saliency_map(model, featurized_mol)\n",
    "        scaled_saliency_map_weights = MinMaxScaler().fit_transform(saliency_map_weights.reshape(-1, 1)).squeeze()\n",
    "        img = img_for_mol(mol, scaled_saliency_map_weights)\n",
    "        output_dir = f\"results/{dataset_name}_saliency_map_explanations\"\n",
    "        os.makedirs(output_dir, exist_ok=True)\n",
    "        plt.imsave(f\"{output_dir}/{i}.png\", img)"
   ]
  },
  {
   "cell_type": "code",
   "execution_count": null,
   "metadata": {},
   "outputs": [],
   "source": []
  }
 ],
 "metadata": {
  "kernelspec": {
   "display_name": "masters",
   "language": "python",
   "name": "python3"
  },
  "language_info": {
   "codemirror_mode": {
    "name": "ipython",
    "version": 3
   },
   "file_extension": ".py",
   "mimetype": "text/x-python",
   "name": "python",
   "nbconvert_exporter": "python",
   "pygments_lexer": "ipython3",
   "version": "3.10.16"
  }
 },
 "nbformat": 4,
 "nbformat_minor": 2
}

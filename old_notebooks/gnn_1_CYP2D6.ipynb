{
 "cells": [
  {
   "cell_type": "code",
   "execution_count": 1,
   "metadata": {},
   "outputs": [
    {
     "name": "stderr",
     "output_type": "stream",
     "text": [
      "Skipped loading some Tensorflow models, missing a dependency. No module named 'tensorflow'\n",
      "Skipped loading modules with pytorch-geometric dependency, missing a dependency. No module named 'dgl'\n",
      "Skipped loading modules with transformers dependency. No module named 'transformers'\n",
      "cannot import name 'HuggingFaceModel' from 'deepchem.models.torch_models' (c:\\Users\\kamil\\anaconda3\\envs\\test\\lib\\site-packages\\deepchem\\models\\torch_models\\__init__.py)\n",
      "Skipped loading modules with pytorch-lightning dependency, missing a dependency. No module named 'lightning'\n",
      "Skipped loading some Jax models, missing a dependency. No module named 'jax'\n",
      "Skipped loading some PyTorch models, missing a dependency. No module named 'tensorflow'\n"
     ]
    }
   ],
   "source": [
    "import torch\n",
    "from torch_geometric.loader import DataLoader as GraphDataLoader\n",
    "\n",
    "import src.utils as utils\n",
    "from src.models.gnn import GraphConvolutionalNetwork\n",
    "from src.featurizers import GraphFeaturizer\n",
    "from src.splitters import ScaffoldSplitter\n",
    "from src.early_stopping import EarlyStopping\n",
    "from src.grad_cam import plot_grad_cam_explanation\n",
    "\n",
    "\n",
    "device = torch.device('cuda' if torch.cuda.is_available() else 'cpu')"
   ]
  },
  {
   "cell_type": "code",
   "execution_count": 2,
   "metadata": {},
   "outputs": [],
   "source": [
    "datasets = utils.load_data()\n",
    "target_names = utils.get_data_target_field_names()\n",
    "\n",
    "data, target_name = datasets[1], target_names[1]\n",
    "\n",
    "splitter = ScaffoldSplitter()\n",
    "train, test = splitter.train_test_molecules_split(data, target_name)"
   ]
  },
  {
   "cell_type": "code",
   "execution_count": 3,
   "metadata": {},
   "outputs": [],
   "source": [
    "featurizer = GraphFeaturizer(y_col=target_name, log_target_transform=True)\n",
    "graph_train = featurizer(train)\n",
    "graph_test = featurizer(test)\n",
    "\n",
    "batch_size = 64\n",
    "graph_train_loader = GraphDataLoader(graph_train, batch_size, shuffle=True)\n",
    "graph_test_loader = GraphDataLoader(graph_test, batch_size)"
   ]
  },
  {
   "cell_type": "code",
   "execution_count": 34,
   "metadata": {},
   "outputs": [
    {
     "name": "stdout",
     "output_type": "stream",
     "text": [
      "Epoch: 0, train loss: 10.1584, test loss: 5.2247\n",
      "Epoch: 1, train loss: 3.6346, test loss: 3.4802\n",
      "Epoch: 2, train loss: 3.5640, test loss: 3.3463\n",
      "Epoch: 3, train loss: 3.5664, test loss: 3.5176\n",
      "Epoch: 4, train loss: 3.6675, test loss: 3.1658\n",
      "Epoch: 5, train loss: 3.5517, test loss: 3.2871\n",
      "Epoch: 6, train loss: 3.3878, test loss: 3.2108\n",
      "Epoch: 7, train loss: 3.5214, test loss: 3.1079\n",
      "Epoch: 8, train loss: 3.3243, test loss: 3.1094\n",
      "Epoch: 9, train loss: 3.4675, test loss: 4.0100\n",
      "Epoch: 10, train loss: 3.4847, test loss: 3.0936\n",
      "Epoch: 11, train loss: 3.4632, test loss: 3.4737\n",
      "Epoch: 12, train loss: 3.4241, test loss: 3.8324\n",
      "Epoch: 13, train loss: 3.3643, test loss: 3.0686\n",
      "Epoch: 14, train loss: 3.2491, test loss: 3.2091\n",
      "Epoch: 15, train loss: 3.3100, test loss: 3.1617\n",
      "Epoch: 16, train loss: 3.4018, test loss: 3.0978\n",
      "Epoch: 17, train loss: 3.1679, test loss: 3.3332\n",
      "Epoch: 18, train loss: 3.3268, test loss: 3.1876\n",
      "Epoch: 19, train loss: 3.3193, test loss: 3.4036\n",
      "Epoch: 20, train loss: 3.1387, test loss: 3.2438\n",
      "Epoch: 21, train loss: 3.2114, test loss: 3.0840\n",
      "Epoch: 22, train loss: 3.1226, test loss: 3.0790\n",
      "Epoch: 23, train loss: 3.2156, test loss: 3.1124\n",
      "Epoch: 24, train loss: 3.1586, test loss: 3.2139\n",
      "Epoch: 25, train loss: 3.2220, test loss: 3.0416\n",
      "Epoch: 26, train loss: 3.0184, test loss: 2.9986\n",
      "Epoch: 27, train loss: 2.9930, test loss: 3.4174\n",
      "Epoch: 28, train loss: 3.0115, test loss: 3.2672\n",
      "Epoch: 29, train loss: 3.0070, test loss: 3.1143\n",
      "Epoch: 30, train loss: 3.0408, test loss: 2.9671\n",
      "Epoch: 31, train loss: 2.9815, test loss: 3.0019\n",
      "Epoch: 32, train loss: 3.0266, test loss: 3.3686\n",
      "Epoch: 33, train loss: 2.9428, test loss: 2.9940\n",
      "Epoch: 34, train loss: 2.8205, test loss: 3.0287\n",
      "Epoch: 35, train loss: 2.7998, test loss: 3.0400\n",
      "Epoch: 36, train loss: 2.7439, test loss: 3.1061\n",
      "Epoch: 37, train loss: 2.8119, test loss: 2.9859\n",
      "Epoch: 38, train loss: 2.8565, test loss: 2.9983\n",
      "Epoch: 39, train loss: 2.8263, test loss: 2.9447\n",
      "Epoch: 40, train loss: 2.7280, test loss: 4.1970\n",
      "Epoch: 41, train loss: 2.7689, test loss: 3.1149\n",
      "Epoch: 42, train loss: 2.6943, test loss: 3.0121\n",
      "Epoch: 43, train loss: 2.6893, test loss: 2.9215\n",
      "Epoch: 44, train loss: 2.5891, test loss: 3.3777\n",
      "Epoch: 45, train loss: 2.5888, test loss: 3.5294\n",
      "Epoch: 46, train loss: 2.7189, test loss: 2.8990\n",
      "Epoch: 47, train loss: 2.5510, test loss: 2.9110\n",
      "Epoch: 48, train loss: 2.5333, test loss: 2.9125\n",
      "Epoch: 49, train loss: 2.5614, test loss: 3.0907\n",
      "Epoch: 50, train loss: 2.4044, test loss: 3.0625\n",
      "Epoch: 51, train loss: 2.5740, test loss: 3.1170\n",
      "Epoch: 52, train loss: 2.4443, test loss: 2.9788\n",
      "Epoch: 53, train loss: 2.4062, test loss: 3.0098\n",
      "Epoch: 54, train loss: 2.4132, test loss: 3.2128\n",
      "Epoch: 55, train loss: 2.3275, test loss: 3.0031\n",
      "Epoch: 56, train loss: 2.3778, test loss: 2.9975\n",
      "Epoch: 57, train loss: 2.3093, test loss: 2.9790\n",
      "Epoch: 58, train loss: 2.3691, test loss: 3.0084\n",
      "Epoch: 59, train loss: 2.3372, test loss: 2.8670\n",
      "Epoch: 60, train loss: 2.2643, test loss: 3.2233\n",
      "Epoch: 61, train loss: 2.2980, test loss: 2.9803\n",
      "Epoch: 62, train loss: 2.1828, test loss: 3.0173\n",
      "Epoch: 63, train loss: 2.2887, test loss: 3.1807\n",
      "Epoch: 64, train loss: 2.2340, test loss: 3.0206\n",
      "Epoch: 65, train loss: 2.2613, test loss: 2.8885\n",
      "Epoch: 66, train loss: 2.2340, test loss: 3.0091\n",
      "Epoch: 67, train loss: 2.1323, test loss: 2.8846\n",
      "Epoch: 68, train loss: 2.1070, test loss: 3.0341\n",
      "Epoch: 69, train loss: 2.1559, test loss: 3.0849\n",
      "Epoch: 70, train loss: 2.1444, test loss: 2.9438\n",
      "Epoch: 71, train loss: 2.1096, test loss: 3.0829\n",
      "Epoch: 72, train loss: 2.0137, test loss: 2.9886\n",
      "Epoch: 73, train loss: 2.0059, test loss: 2.8666\n",
      "Epoch: 74, train loss: 2.1429, test loss: 3.0097\n",
      "Epoch: 75, train loss: 2.0753, test loss: 2.8231\n",
      "Epoch: 76, train loss: 2.1010, test loss: 3.0243\n",
      "Epoch: 77, train loss: 2.0698, test loss: 2.8832\n",
      "Epoch: 78, train loss: 2.1029, test loss: 2.9642\n",
      "Epoch: 79, train loss: 2.0589, test loss: 3.0851\n",
      "Epoch: 80, train loss: 1.9218, test loss: 3.1434\n",
      "Epoch: 81, train loss: 2.0767, test loss: 2.8555\n",
      "Epoch: 82, train loss: 2.0077, test loss: 2.9351\n",
      "Epoch: 83, train loss: 1.9560, test loss: 3.0464\n",
      "Epoch: 84, train loss: 1.9693, test loss: 2.8662\n",
      "Epoch: 85, train loss: 1.9517, test loss: 2.9928\n",
      "Epoch: 86, train loss: 1.9934, test loss: 3.0487\n",
      "Epoch: 87, train loss: 1.9546, test loss: 3.0177\n",
      "Epoch: 88, train loss: 1.9401, test loss: 3.1767\n",
      "Epoch: 89, train loss: 1.8553, test loss: 3.0338\n",
      "Epoch: 90, train loss: 1.9696, test loss: 3.2795\n",
      "Epoch: 91, train loss: 1.9457, test loss: 3.1077\n",
      "Epoch: 92, train loss: 1.8422, test loss: 3.2937\n",
      "Epoch: 93, train loss: 1.8213, test loss: 3.0143\n",
      "Epoch: 94, train loss: 1.8461, test loss: 3.1099\n",
      "Epoch: 95, train loss: 1.8948, test loss: 2.9078\n",
      "Epoch: 96, train loss: 1.8593, test loss: 3.0597\n",
      "Epoch: 97, train loss: 1.8966, test loss: 3.0620\n",
      "Epoch: 98, train loss: 1.8348, test loss: 2.8410\n",
      "Epoch: 99, train loss: 1.8741, test loss: 2.9737\n",
      "Epoch: 100, train loss: 1.8172, test loss: 2.8878\n",
      "Epoch: 101, train loss: 1.8826, test loss: 3.0053\n",
      "Epoch: 102, train loss: 1.8879, test loss: 2.8852\n",
      "Epoch: 103, train loss: 1.7755, test loss: 2.9948\n",
      "Epoch: 104, train loss: 1.7775, test loss: 3.0375\n",
      "Epoch: 105, train loss: 1.7242, test loss: 2.9309\n",
      "Epoch: 106, train loss: 1.7686, test loss: 2.9801\n",
      "Epoch: 107, train loss: 1.8383, test loss: 3.0196\n",
      "Epoch: 108, train loss: 1.8108, test loss: 2.9628\n",
      "Epoch: 109, train loss: 1.7375, test loss: 2.9220\n",
      "Epoch: 110, train loss: 1.7453, test loss: 2.8544\n",
      "Epoch: 111, train loss: 1.8218, test loss: 2.8220\n",
      "Epoch: 112, train loss: 1.6850, test loss: 3.1049\n",
      "Epoch: 113, train loss: 1.5881, test loss: 3.1469\n",
      "Epoch: 114, train loss: 1.7226, test loss: 2.8521\n",
      "Epoch: 115, train loss: 1.7773, test loss: 2.8988\n",
      "Epoch: 116, train loss: 1.6486, test loss: 2.8621\n",
      "Epoch: 117, train loss: 1.5919, test loss: 2.8502\n",
      "Epoch: 118, train loss: 1.6594, test loss: 2.8050\n",
      "Epoch: 119, train loss: 1.6547, test loss: 2.9022\n",
      "Epoch: 120, train loss: 1.6014, test loss: 2.7477\n",
      "Epoch: 121, train loss: 1.6453, test loss: 3.0274\n",
      "Epoch: 122, train loss: 1.6498, test loss: 3.0581\n",
      "Epoch: 123, train loss: 1.6310, test loss: 3.1405\n",
      "Epoch: 124, train loss: 1.7047, test loss: 2.8770\n",
      "Epoch: 125, train loss: 1.5977, test loss: 2.9748\n",
      "Epoch: 126, train loss: 1.6873, test loss: 2.8835\n",
      "Epoch: 127, train loss: 1.5297, test loss: 2.8387\n",
      "Epoch: 128, train loss: 1.5549, test loss: 2.9272\n",
      "Epoch: 129, train loss: 1.5710, test loss: 3.0791\n",
      "Epoch: 130, train loss: 1.5766, test loss: 2.8794\n",
      "Epoch: 131, train loss: 1.6456, test loss: 2.9359\n",
      "Epoch: 132, train loss: 1.5981, test loss: 3.0985\n",
      "Epoch: 133, train loss: 1.5813, test loss: 3.0021\n",
      "Epoch: 134, train loss: 1.5110, test loss: 2.8970\n",
      "Epoch: 135, train loss: 1.6270, test loss: 2.9017\n",
      "Epoch: 136, train loss: 1.5660, test loss: 2.8593\n",
      "Epoch: 137, train loss: 1.6689, test loss: 3.2062\n",
      "Epoch: 138, train loss: 1.5417, test loss: 3.0073\n",
      "Epoch: 139, train loss: 1.5747, test loss: 2.8668\n",
      "Epoch: 140, train loss: 1.4535, test loss: 2.8900\n",
      "Epoch: 141, train loss: 1.4516, test loss: 2.9602\n",
      "Epoch: 142, train loss: 1.4660, test loss: 2.8993\n",
      "Epoch: 143, train loss: 1.5624, test loss: 2.9520\n",
      "Epoch: 144, train loss: 1.4252, test loss: 2.8814\n",
      "Epoch: 145, train loss: 1.5287, test loss: 2.8837\n",
      "Epoch: 146, train loss: 1.5125, test loss: 3.1740\n",
      "Epoch: 147, train loss: 1.4759, test loss: 3.3480\n",
      "Epoch: 148, train loss: 1.4517, test loss: 2.8664\n",
      "Epoch: 149, train loss: 1.5032, test loss: 2.9744\n",
      "Epoch: 150, train loss: 1.4330, test loss: 3.1795\n",
      "Epoch: 151, train loss: 1.5159, test loss: 3.0832\n",
      "Epoch: 152, train loss: 1.4925, test loss: 2.8294\n",
      "Epoch: 153, train loss: 1.6070, test loss: 3.0319\n",
      "Epoch: 154, train loss: 1.5582, test loss: 3.0800\n",
      "Epoch: 155, train loss: 1.3891, test loss: 3.0204\n",
      "Epoch: 156, train loss: 1.4427, test loss: 2.9880\n",
      "Epoch: 157, train loss: 1.4542, test loss: 3.0583\n",
      "Epoch: 158, train loss: 1.4853, test loss: 2.8460\n",
      "Epoch: 159, train loss: 1.4034, test loss: 2.9681\n",
      "Epoch: 160, train loss: 1.4811, test loss: 2.9908\n",
      "Early stopping on epoch 160\n"
     ]
    }
   ],
   "source": [
    "hidden_size = 128\n",
    "n_layers = 3\n",
    "model_path = \"gnn1.pth\"\n",
    "gnn = GraphConvolutionalNetwork(graph_train[0].x.shape[1], hidden_size=hidden_size, n_layers=n_layers).to(device)\n",
    "early_stopping = EarlyStopping(patience=40, min_delta=0.001)\n",
    "gnn.train_model(graph_train_loader, graph_test_loader, epochs=9999, lr=0.02, early_stopping=early_stopping)\n",
    "torch.save(gnn.state_dict(), model_path)"
   ]
  },
  {
   "cell_type": "code",
   "execution_count": 4,
   "metadata": {},
   "outputs": [
    {
     "data": {
      "text/plain": [
       "<All keys matched successfully>"
      ]
     },
     "execution_count": 4,
     "metadata": {},
     "output_type": "execute_result"
    }
   ],
   "source": [
    "hidden_size = 128\n",
    "n_layers = 3\n",
    "model_path = \"gnn1.pth\"\n",
    "gnn = GraphConvolutionalNetwork(graph_train[0].x.shape[1], hidden_size=hidden_size, n_layers=n_layers).to(device)\n",
    "gnn.load_state_dict(torch.load(model_path))"
   ]
  },
  {
   "cell_type": "code",
   "execution_count": 5,
   "metadata": {},
   "outputs": [
    {
     "data": {
      "text/plain": [
       "0.41269925236701965"
      ]
     },
     "execution_count": 5,
     "metadata": {},
     "output_type": "execute_result"
    }
   ],
   "source": [
    "gnn.r2_score(graph_test_loader)"
   ]
  },
  {
   "cell_type": "code",
   "execution_count": 31,
   "metadata": {},
   "outputs": [
    {
     "name": "stderr",
     "output_type": "stream",
     "text": [
      "c:\\Users\\kamil\\OneDrive\\Pulpit\\przedmioty\\semestr 8\\ml w lekach\\projekt\\src\\grad_cam.py:55: UserWarning: Using a target size (torch.Size([1])) that is different to the input size (torch.Size([1, 1])). This will likely lead to incorrect results due to broadcasting. Please ensure they have the same size.\n",
      "  loss = F.mse_loss(output, y)\n"
     ]
    },
    {
     "data": {
      "image/png": "[encoded data removed]",
      "text/plain": [
       "<Figure size 640x480 with 1 Axes>"
      ]
     },
     "metadata": {},
     "output_type": "display_data"
    }
   ],
   "source": [
    "mol_index = 42\n",
    "plot_grad_cam_explanation(gnn, test[mol_index], graph_test[mol_index])"
   ]
  },
  {
   "cell_type": "code",
   "execution_count": null,
   "metadata": {},
   "outputs": [],
   "source": []
  }
 ],
 "metadata": {
  "kernelspec": {
   "display_name": "ml_gnn",
   "language": "python",
   "name": "python3"
  },
  "language_info": {
   "codemirror_mode": {
    "name": "ipython",
    "version": 3
   },
   "file_extension": ".py",
   "mimetype": "text/x-python",
   "name": "python",
   "nbconvert_exporter": "python",
   "pygments_lexer": "ipython3",
   "version": "3.10.14"
  }
 },
 "nbformat": 4,
 "nbformat_minor": 2
}
